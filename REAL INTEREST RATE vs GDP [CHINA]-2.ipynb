{
 "cells": [
  {
   "cell_type": "code",
   "execution_count": 3,
   "metadata": {},
   "outputs": [],
   "source": [
    "#Key Imports\n",
    "import numpy as np\n",
    "import matplotlib.pyplot as plt\n",
    "%matplotlib inline\n",
    "import pandas as pd\n",
    "import statsmodels.api as sm\n",
    "from statsmodels.iolib.summary2 import summary_col"
   ]
  },
  {
   "cell_type": "code",
   "execution_count": 4,
   "metadata": {},
   "outputs": [
    {
     "data": {
      "text/html": [
       "<div>\n",
       "<style scoped>\n",
       "    .dataframe tbody tr th:only-of-type {\n",
       "        vertical-align: middle;\n",
       "    }\n",
       "\n",
       "    .dataframe tbody tr th {\n",
       "        vertical-align: top;\n",
       "    }\n",
       "\n",
       "    .dataframe thead th {\n",
       "        text-align: right;\n",
       "    }\n",
       "</style>\n",
       "<table border=\"1\" class=\"dataframe\">\n",
       "  <thead>\n",
       "    <tr style=\"text-align: right;\">\n",
       "      <th></th>\n",
       "      <th>DATE</th>\n",
       "      <th>VALUE</th>\n",
       "    </tr>\n",
       "  </thead>\n",
       "  <tbody>\n",
       "    <tr>\n",
       "      <th>0</th>\n",
       "      <td>1987-01-01</td>\n",
       "      <td>7.233836</td>\n",
       "    </tr>\n",
       "    <tr>\n",
       "      <th>1</th>\n",
       "      <td>1988-01-01</td>\n",
       "      <td>18.811818</td>\n",
       "    </tr>\n",
       "    <tr>\n",
       "      <th>2</th>\n",
       "      <td>1989-01-01</td>\n",
       "      <td>18.245638</td>\n",
       "    </tr>\n",
       "    <tr>\n",
       "      <th>3</th>\n",
       "      <td>1990-01-01</td>\n",
       "      <td>3.052290</td>\n",
       "    </tr>\n",
       "    <tr>\n",
       "      <th>4</th>\n",
       "      <td>1991-01-01</td>\n",
       "      <td>3.556686</td>\n",
       "    </tr>\n",
       "  </tbody>\n",
       "</table>\n",
       "</div>"
      ],
      "text/plain": [
       "         DATE      VALUE\n",
       "0  1987-01-01   7.233836\n",
       "1  1988-01-01  18.811818\n",
       "2  1989-01-01  18.245638\n",
       "3  1990-01-01   3.052290\n",
       "4  1991-01-01   3.556686"
      ]
     },
     "execution_count": 4,
     "metadata": {},
     "output_type": "execute_result"
    }
   ],
   "source": [
    "#Access INFLATION RATE for CHINA\n",
    "url_1 = 'https://fred.stlouisfed.org/series/FPCPITOTLZGCHN/downloaddata/FPCPITOTLZGCHN.csv'\n",
    "data_1 = pd.read_csv(url_1, parse_dates=True)\n",
    "data_1.head()"
   ]
  },
  {
   "cell_type": "code",
   "execution_count": 49,
   "metadata": {},
   "outputs": [
    {
     "data": {
      "text/html": [
       "<div>\n",
       "<style scoped>\n",
       "    .dataframe tbody tr th:only-of-type {\n",
       "        vertical-align: middle;\n",
       "    }\n",
       "\n",
       "    .dataframe tbody tr th {\n",
       "        vertical-align: top;\n",
       "    }\n",
       "\n",
       "    .dataframe thead th {\n",
       "        text-align: right;\n",
       "    }\n",
       "</style>\n",
       "<table border=\"1\" class=\"dataframe\">\n",
       "  <thead>\n",
       "    <tr style=\"text-align: right;\">\n",
       "      <th></th>\n",
       "      <th>DATE</th>\n",
       "      <th>INFLATION</th>\n",
       "    </tr>\n",
       "  </thead>\n",
       "  <tbody>\n",
       "    <tr>\n",
       "      <th>0</th>\n",
       "      <td>1987-01-01</td>\n",
       "      <td>7.233836</td>\n",
       "    </tr>\n",
       "    <tr>\n",
       "      <th>1</th>\n",
       "      <td>1988-01-01</td>\n",
       "      <td>18.811818</td>\n",
       "    </tr>\n",
       "    <tr>\n",
       "      <th>2</th>\n",
       "      <td>1989-01-01</td>\n",
       "      <td>18.245638</td>\n",
       "    </tr>\n",
       "    <tr>\n",
       "      <th>3</th>\n",
       "      <td>1990-01-01</td>\n",
       "      <td>3.052290</td>\n",
       "    </tr>\n",
       "    <tr>\n",
       "      <th>4</th>\n",
       "      <td>1991-01-01</td>\n",
       "      <td>3.556686</td>\n",
       "    </tr>\n",
       "  </tbody>\n",
       "</table>\n",
       "</div>"
      ],
      "text/plain": [
       "         DATE  INFLATION\n",
       "0  1987-01-01   7.233836\n",
       "1  1988-01-01  18.811818\n",
       "2  1989-01-01  18.245638\n",
       "3  1990-01-01   3.052290\n",
       "4  1991-01-01   3.556686"
      ]
     },
     "execution_count": 49,
     "metadata": {},
     "output_type": "execute_result"
    }
   ],
   "source": [
    "data_1.columns=['DATE','INFLATION']\n",
    "data_1.head()"
   ]
  },
  {
   "cell_type": "code",
   "execution_count": 7,
   "metadata": {},
   "outputs": [
    {
     "data": {
      "text/html": [
       "<div>\n",
       "<style scoped>\n",
       "    .dataframe tbody tr th:only-of-type {\n",
       "        vertical-align: middle;\n",
       "    }\n",
       "\n",
       "    .dataframe tbody tr th {\n",
       "        vertical-align: top;\n",
       "    }\n",
       "\n",
       "    .dataframe thead th {\n",
       "        text-align: right;\n",
       "    }\n",
       "</style>\n",
       "<table border=\"1\" class=\"dataframe\">\n",
       "  <thead>\n",
       "    <tr style=\"text-align: right;\">\n",
       "      <th></th>\n",
       "      <th>INFLATION</th>\n",
       "    </tr>\n",
       "  </thead>\n",
       "  <tbody>\n",
       "    <tr>\n",
       "      <th>count</th>\n",
       "      <td>33.000000</td>\n",
       "    </tr>\n",
       "    <tr>\n",
       "      <th>mean</th>\n",
       "      <td>5.044244</td>\n",
       "    </tr>\n",
       "    <tr>\n",
       "      <th>std</th>\n",
       "      <td>6.340551</td>\n",
       "    </tr>\n",
       "    <tr>\n",
       "      <th>min</th>\n",
       "      <td>-1.401474</td>\n",
       "    </tr>\n",
       "    <tr>\n",
       "      <th>25%</th>\n",
       "      <td>1.593137</td>\n",
       "    </tr>\n",
       "    <tr>\n",
       "      <th>50%</th>\n",
       "      <td>2.786468</td>\n",
       "    </tr>\n",
       "    <tr>\n",
       "      <th>75%</th>\n",
       "      <td>5.925255</td>\n",
       "    </tr>\n",
       "    <tr>\n",
       "      <th>max</th>\n",
       "      <td>24.256984</td>\n",
       "    </tr>\n",
       "  </tbody>\n",
       "</table>\n",
       "</div>"
      ],
      "text/plain": [
       "       INFLATION\n",
       "count  33.000000\n",
       "mean    5.044244\n",
       "std     6.340551\n",
       "min    -1.401474\n",
       "25%     1.593137\n",
       "50%     2.786468\n",
       "75%     5.925255\n",
       "max    24.256984"
      ]
     },
     "execution_count": 7,
     "metadata": {},
     "output_type": "execute_result"
    }
   ],
   "source": [
    "#Summary Statistics for INFLATION RATE\n",
    "data_1.describe()"
   ]
  },
  {
   "cell_type": "code",
   "execution_count": 12,
   "metadata": {},
   "outputs": [
    {
     "data": {
      "image/png": "[encoded data removed]",
      "text/plain": [
       "<Figure size 864x432 with 1 Axes>"
      ]
     },
     "metadata": {
      "needs_background": "light"
     },
     "output_type": "display_data"
    }
   ],
   "source": [
    "#Graphing the CHINESE INFLATION RATE\n",
    "data1=data_1.set_index('DATE')\n",
    "ax = data1['1987':'2020'].plot(title='CHINESE INFLATION RATE', legend=False, figsize=(12,6))\n",
    "ax.set_xlabel('year', fontsize=12)\n",
    "ax.set_ylabel('%', fontsize=12)\n",
    "plt.show()\n"
   ]
  },
  {
   "cell_type": "code",
   "execution_count": 70,
   "metadata": {},
   "outputs": [
    {
     "data": {
      "text/html": [
       "<div>\n",
       "<style scoped>\n",
       "    .dataframe tbody tr th:only-of-type {\n",
       "        vertical-align: middle;\n",
       "    }\n",
       "\n",
       "    .dataframe tbody tr th {\n",
       "        vertical-align: top;\n",
       "    }\n",
       "\n",
       "    .dataframe thead th {\n",
       "        text-align: right;\n",
       "    }\n",
       "</style>\n",
       "<table border=\"1\" class=\"dataframe\">\n",
       "  <thead>\n",
       "    <tr style=\"text-align: right;\">\n",
       "      <th></th>\n",
       "      <th>DATE</th>\n",
       "      <th>VALUE</th>\n",
       "    </tr>\n",
       "  </thead>\n",
       "  <tbody>\n",
       "    <tr>\n",
       "      <th>0</th>\n",
       "      <td>1990-03-01</td>\n",
       "      <td>9.00</td>\n",
       "    </tr>\n",
       "    <tr>\n",
       "      <th>1</th>\n",
       "      <td>1990-04-01</td>\n",
       "      <td>9.00</td>\n",
       "    </tr>\n",
       "    <tr>\n",
       "      <th>2</th>\n",
       "      <td>1990-05-01</td>\n",
       "      <td>9.00</td>\n",
       "    </tr>\n",
       "    <tr>\n",
       "      <th>3</th>\n",
       "      <td>1990-06-01</td>\n",
       "      <td>9.00</td>\n",
       "    </tr>\n",
       "    <tr>\n",
       "      <th>4</th>\n",
       "      <td>1990-07-01</td>\n",
       "      <td>9.00</td>\n",
       "    </tr>\n",
       "  </tbody>\n",
       "</table>\n",
       "</div>"
      ],
      "text/plain": [
       "         DATE VALUE\n",
       "0  1990-03-01  9.00\n",
       "1  1990-04-01  9.00\n",
       "2  1990-05-01  9.00\n",
       "3  1990-06-01  9.00\n",
       "4  1990-07-01  9.00"
      ]
     },
     "execution_count": 70,
     "metadata": {},
     "output_type": "execute_result"
    }
   ],
   "source": [
    "#Access INTEREST RATE for CHINA\n",
    "url_2 = 'https://fred.stlouisfed.org/series/INTDSRCNM193N/downloaddata/INTDSRCNM193N.csv'\n",
    "data_2 = pd.read_csv(url_2, parse_dates=True)\n",
    "data_2.head()"
   ]
  },
  {
   "cell_type": "code",
   "execution_count": 71,
   "metadata": {},
   "outputs": [],
   "source": [
    "data_2.columns=['DATE','INTEREST RATE']\n",
    "data_2.head()\n",
    "data_2 = pd.DataFrame(data_2)\n",
    "data_2['INTEREST RATE'] = pd.to_numeric(data_2['INTEREST RATE'], errors='coerce')\n"
   ]
  },
  {
   "cell_type": "code",
   "execution_count": 72,
   "metadata": {},
   "outputs": [
    {
     "data": {
      "text/html": [
       "<div>\n",
       "<style scoped>\n",
       "    .dataframe tbody tr th:only-of-type {\n",
       "        vertical-align: middle;\n",
       "    }\n",
       "\n",
       "    .dataframe tbody tr th {\n",
       "        vertical-align: top;\n",
       "    }\n",
       "\n",
       "    .dataframe thead th {\n",
       "        text-align: right;\n",
       "    }\n",
       "</style>\n",
       "<table border=\"1\" class=\"dataframe\">\n",
       "  <thead>\n",
       "    <tr style=\"text-align: right;\">\n",
       "      <th></th>\n",
       "      <th>INTEREST RATE</th>\n",
       "    </tr>\n",
       "  </thead>\n",
       "  <tbody>\n",
       "    <tr>\n",
       "      <th>count</th>\n",
       "      <td>366.000000</td>\n",
       "    </tr>\n",
       "    <tr>\n",
       "      <th>mean</th>\n",
       "      <td>4.695628</td>\n",
       "    </tr>\n",
       "    <tr>\n",
       "      <th>std</th>\n",
       "      <td>2.602980</td>\n",
       "    </tr>\n",
       "    <tr>\n",
       "      <th>min</th>\n",
       "      <td>2.700000</td>\n",
       "    </tr>\n",
       "    <tr>\n",
       "      <th>25%</th>\n",
       "      <td>2.900000</td>\n",
       "    </tr>\n",
       "    <tr>\n",
       "      <th>50%</th>\n",
       "      <td>3.250000</td>\n",
       "    </tr>\n",
       "    <tr>\n",
       "      <th>75%</th>\n",
       "      <td>7.200000</td>\n",
       "    </tr>\n",
       "    <tr>\n",
       "      <th>max</th>\n",
       "      <td>10.440000</td>\n",
       "    </tr>\n",
       "  </tbody>\n",
       "</table>\n",
       "</div>"
      ],
      "text/plain": [
       "       INTEREST RATE\n",
       "count     366.000000\n",
       "mean        4.695628\n",
       "std         2.602980\n",
       "min         2.700000\n",
       "25%         2.900000\n",
       "50%         3.250000\n",
       "75%         7.200000\n",
       "max        10.440000"
      ]
     },
     "execution_count": 72,
     "metadata": {},
     "output_type": "execute_result"
    }
   ],
   "source": [
    "#Summary Statistics for INTEREST RATE\n",
    "data_2.describe()"
   ]
  },
  {
   "cell_type": "code",
   "execution_count": 73,
   "metadata": {},
   "outputs": [
    {
     "data": {
      "image/png": "[encoded data removed]",
      "text/plain": [
       "<Figure size 864x432 with 1 Axes>"
      ]
     },
     "metadata": {
      "needs_background": "light"
     },
     "output_type": "display_data"
    }
   ],
   "source": [
    "#Graphing the CHINESE INTEREST RATE\n",
    "data2=data_2.set_index('DATE')\n",
    "ax = data2['1990':'2020'].plot(title='CHINESE INTEREST RATE', legend=False, figsize=(12,6))\n",
    "ax.set_xlabel('year', fontsize=12)\n",
    "ax.set_ylabel('%', fontsize=12)\n",
    "plt.show()"
   ]
  },
  {
   "cell_type": "code",
   "execution_count": 74,
   "metadata": {},
   "outputs": [
    {
     "data": {
      "text/html": [
       "<div>\n",
       "<style scoped>\n",
       "    .dataframe tbody tr th:only-of-type {\n",
       "        vertical-align: middle;\n",
       "    }\n",
       "\n",
       "    .dataframe tbody tr th {\n",
       "        vertical-align: top;\n",
       "    }\n",
       "\n",
       "    .dataframe thead th {\n",
       "        text-align: right;\n",
       "    }\n",
       "</style>\n",
       "<table border=\"1\" class=\"dataframe\">\n",
       "  <thead>\n",
       "    <tr style=\"text-align: right;\">\n",
       "      <th></th>\n",
       "      <th>DATE</th>\n",
       "      <th>VALUE</th>\n",
       "    </tr>\n",
       "  </thead>\n",
       "  <tbody>\n",
       "    <tr>\n",
       "      <th>0</th>\n",
       "      <td>1960-01-01</td>\n",
       "      <td>5.971647e+10</td>\n",
       "    </tr>\n",
       "    <tr>\n",
       "      <th>1</th>\n",
       "      <td>1961-01-01</td>\n",
       "      <td>5.005687e+10</td>\n",
       "    </tr>\n",
       "    <tr>\n",
       "      <th>2</th>\n",
       "      <td>1962-01-01</td>\n",
       "      <td>4.720936e+10</td>\n",
       "    </tr>\n",
       "    <tr>\n",
       "      <th>3</th>\n",
       "      <td>1963-01-01</td>\n",
       "      <td>5.070680e+10</td>\n",
       "    </tr>\n",
       "    <tr>\n",
       "      <th>4</th>\n",
       "      <td>1964-01-01</td>\n",
       "      <td>5.970834e+10</td>\n",
       "    </tr>\n",
       "  </tbody>\n",
       "</table>\n",
       "</div>"
      ],
      "text/plain": [
       "         DATE         VALUE\n",
       "0  1960-01-01  5.971647e+10\n",
       "1  1961-01-01  5.005687e+10\n",
       "2  1962-01-01  4.720936e+10\n",
       "3  1963-01-01  5.070680e+10\n",
       "4  1964-01-01  5.970834e+10"
      ]
     },
     "execution_count": 74,
     "metadata": {},
     "output_type": "execute_result"
    }
   ],
   "source": [
    "#Access GDP for CHINA\n",
    "url_3 = 'https://fred.stlouisfed.org/series/MKTGDPCNA646NWDB/downloaddata/MKTGDPCNA646NWDB.csv'\n",
    "data_3 = pd.read_csv(url_3, parse_dates=True)\n",
    "data_3.head()"
   ]
  },
  {
   "cell_type": "code",
   "execution_count": 75,
   "metadata": {},
   "outputs": [
    {
     "data": {
      "text/html": [
       "<div>\n",
       "<style scoped>\n",
       "    .dataframe tbody tr th:only-of-type {\n",
       "        vertical-align: middle;\n",
       "    }\n",
       "\n",
       "    .dataframe tbody tr th {\n",
       "        vertical-align: top;\n",
       "    }\n",
       "\n",
       "    .dataframe thead th {\n",
       "        text-align: right;\n",
       "    }\n",
       "</style>\n",
       "<table border=\"1\" class=\"dataframe\">\n",
       "  <thead>\n",
       "    <tr style=\"text-align: right;\">\n",
       "      <th></th>\n",
       "      <th>DATE</th>\n",
       "      <th>GDP</th>\n",
       "    </tr>\n",
       "  </thead>\n",
       "  <tbody>\n",
       "    <tr>\n",
       "      <th>0</th>\n",
       "      <td>1960-01-01</td>\n",
       "      <td>5.971647e+10</td>\n",
       "    </tr>\n",
       "    <tr>\n",
       "      <th>1</th>\n",
       "      <td>1961-01-01</td>\n",
       "      <td>5.005687e+10</td>\n",
       "    </tr>\n",
       "    <tr>\n",
       "      <th>2</th>\n",
       "      <td>1962-01-01</td>\n",
       "      <td>4.720936e+10</td>\n",
       "    </tr>\n",
       "    <tr>\n",
       "      <th>3</th>\n",
       "      <td>1963-01-01</td>\n",
       "      <td>5.070680e+10</td>\n",
       "    </tr>\n",
       "    <tr>\n",
       "      <th>4</th>\n",
       "      <td>1964-01-01</td>\n",
       "      <td>5.970834e+10</td>\n",
       "    </tr>\n",
       "  </tbody>\n",
       "</table>\n",
       "</div>"
      ],
      "text/plain": [
       "         DATE           GDP\n",
       "0  1960-01-01  5.971647e+10\n",
       "1  1961-01-01  5.005687e+10\n",
       "2  1962-01-01  4.720936e+10\n",
       "3  1963-01-01  5.070680e+10\n",
       "4  1964-01-01  5.970834e+10"
      ]
     },
     "execution_count": 75,
     "metadata": {},
     "output_type": "execute_result"
    }
   ],
   "source": [
    "data_3.columns=['DATE', 'GDP']\n",
    "data_3.head()"
   ]
  },
  {
   "cell_type": "code",
   "execution_count": 76,
   "metadata": {},
   "outputs": [
    {
     "data": {
      "text/html": [
       "<div>\n",
       "<style scoped>\n",
       "    .dataframe tbody tr th:only-of-type {\n",
       "        vertical-align: middle;\n",
       "    }\n",
       "\n",
       "    .dataframe tbody tr th {\n",
       "        vertical-align: top;\n",
       "    }\n",
       "\n",
       "    .dataframe thead th {\n",
       "        text-align: right;\n",
       "    }\n",
       "</style>\n",
       "<table border=\"1\" class=\"dataframe\">\n",
       "  <thead>\n",
       "    <tr style=\"text-align: right;\">\n",
       "      <th></th>\n",
       "      <th>GDP</th>\n",
       "    </tr>\n",
       "  </thead>\n",
       "  <tbody>\n",
       "    <tr>\n",
       "      <th>count</th>\n",
       "      <td>6.000000e+01</td>\n",
       "    </tr>\n",
       "    <tr>\n",
       "      <th>mean</th>\n",
       "      <td>2.375291e+12</td>\n",
       "    </tr>\n",
       "    <tr>\n",
       "      <th>std</th>\n",
       "      <td>3.947787e+12</td>\n",
       "    </tr>\n",
       "    <tr>\n",
       "      <th>min</th>\n",
       "      <td>4.720936e+10</td>\n",
       "    </tr>\n",
       "    <tr>\n",
       "      <th>25%</th>\n",
       "      <td>1.482011e+11</td>\n",
       "    </tr>\n",
       "    <tr>\n",
       "      <th>50%</th>\n",
       "      <td>3.543130e+11</td>\n",
       "    </tr>\n",
       "    <tr>\n",
       "      <th>75%</th>\n",
       "      <td>2.038002e+12</td>\n",
       "    </tr>\n",
       "    <tr>\n",
       "      <th>max</th>\n",
       "      <td>1.434290e+13</td>\n",
       "    </tr>\n",
       "  </tbody>\n",
       "</table>\n",
       "</div>"
      ],
      "text/plain": [
       "                GDP\n",
       "count  6.000000e+01\n",
       "mean   2.375291e+12\n",
       "std    3.947787e+12\n",
       "min    4.720936e+10\n",
       "25%    1.482011e+11\n",
       "50%    3.543130e+11\n",
       "75%    2.038002e+12\n",
       "max    1.434290e+13"
      ]
     },
     "execution_count": 76,
     "metadata": {},
     "output_type": "execute_result"
    }
   ],
   "source": [
    "#Summary Statistics for GDP\n",
    "data_3.describe()"
   ]
  },
  {
   "cell_type": "code",
   "execution_count": 77,
   "metadata": {},
   "outputs": [
    {
     "data": {
      "image/png": "[encoded data removed]",
      "text/plain": [
       "<Figure size 864x432 with 1 Axes>"
      ]
     },
     "metadata": {
      "needs_background": "light"
     },
     "output_type": "display_data"
    }
   ],
   "source": [
    "#Graphing the CHINESE GDP\n",
    "data3=data_3.set_index('DATE')\n",
    "ax = data3['1960':'2020'].plot(title='CHINESE GDP', legend=False, figsize=(12,6))\n",
    "ax.set_xlabel('year', fontsize=12)\n",
    "ax.set_ylabel('US Dollars', fontsize=12)\n",
    "plt.show()"
   ]
  },
  {
   "cell_type": "code",
   "execution_count": 80,
   "metadata": {},
   "outputs": [],
   "source": [
    "data_merge=pd.merge(data_1, data_2, how='inner', on='DATE', left_on=None, right_on=None,\n",
    "         left_index=False, right_index=False, sort=True,\n",
    "         suffixes=('_x', '_y'), copy=True, indicator=False,\n",
    "         validate=None)"
   ]
  },
  {
   "cell_type": "code",
   "execution_count": 90,
   "metadata": {},
   "outputs": [
    {
     "data": {
      "text/html": [
       "<div>\n",
       "<style scoped>\n",
       "    .dataframe tbody tr th:only-of-type {\n",
       "        vertical-align: middle;\n",
       "    }\n",
       "\n",
       "    .dataframe tbody tr th {\n",
       "        vertical-align: top;\n",
       "    }\n",
       "\n",
       "    .dataframe thead th {\n",
       "        text-align: right;\n",
       "    }\n",
       "</style>\n",
       "<table border=\"1\" class=\"dataframe\">\n",
       "  <thead>\n",
       "    <tr style=\"text-align: right;\">\n",
       "      <th></th>\n",
       "      <th>DATE</th>\n",
       "      <th>INFLATION</th>\n",
       "      <th>INTEREST RATE</th>\n",
       "      <th>REAL INTEREST RATE</th>\n",
       "    </tr>\n",
       "  </thead>\n",
       "  <tbody>\n",
       "    <tr>\n",
       "      <th>0</th>\n",
       "      <td>1991-01-01</td>\n",
       "      <td>3.556686</td>\n",
       "      <td>7.92</td>\n",
       "      <td>4.363314</td>\n",
       "    </tr>\n",
       "    <tr>\n",
       "      <th>1</th>\n",
       "      <td>1992-01-01</td>\n",
       "      <td>6.353981</td>\n",
       "      <td>7.20</td>\n",
       "      <td>0.846019</td>\n",
       "    </tr>\n",
       "    <tr>\n",
       "      <th>2</th>\n",
       "      <td>1993-01-01</td>\n",
       "      <td>14.610079</td>\n",
       "      <td>7.20</td>\n",
       "      <td>-7.410079</td>\n",
       "    </tr>\n",
       "    <tr>\n",
       "      <th>3</th>\n",
       "      <td>1994-01-01</td>\n",
       "      <td>24.256984</td>\n",
       "      <td>10.08</td>\n",
       "      <td>-14.176984</td>\n",
       "    </tr>\n",
       "    <tr>\n",
       "      <th>4</th>\n",
       "      <td>1995-01-01</td>\n",
       "      <td>16.791227</td>\n",
       "      <td>10.26</td>\n",
       "      <td>-6.531227</td>\n",
       "    </tr>\n",
       "  </tbody>\n",
       "</table>\n",
       "</div>"
      ],
      "text/plain": [
       "         DATE  INFLATION  INTEREST RATE  REAL INTEREST RATE\n",
       "0  1991-01-01   3.556686           7.92            4.363314\n",
       "1  1992-01-01   6.353981           7.20            0.846019\n",
       "2  1993-01-01  14.610079           7.20           -7.410079\n",
       "3  1994-01-01  24.256984          10.08          -14.176984\n",
       "4  1995-01-01  16.791227          10.26           -6.531227"
      ]
     },
     "execution_count": 90,
     "metadata": {},
     "output_type": "execute_result"
    }
   ],
   "source": [
    "data_merge['REAL INTEREST RATE']=data_merge['INTEREST RATE']-data_merge['INFLATION']\n",
    "data_merge.head()"
   ]
  },
  {
   "cell_type": "code",
   "execution_count": 93,
   "metadata": {},
   "outputs": [
    {
     "data": {
      "text/plain": [
       "count    29.000000\n",
       "mean      0.648398\n",
       "std       4.407025\n",
       "min     -14.176984\n",
       "25%      -0.385328\n",
       "50%       1.306863\n",
       "75%       2.520868\n",
       "max       9.323182\n",
       "Name: REAL INTEREST RATE, dtype: float64"
      ]
     },
     "execution_count": 93,
     "metadata": {},
     "output_type": "execute_result"
    }
   ],
   "source": [
    "#Summary statistics of REAL INTEREST RATE\n",
    "data_merge['REAL INTEREST RATE'].describe()"
   ]
  },
  {
   "cell_type": "code",
   "execution_count": 95,
   "metadata": {},
   "outputs": [
    {
     "data": {
      "image/png": "[encoded data removed]",
      "text/plain": [
       "<Figure size 864x432 with 1 Axes>"
      ]
     },
     "metadata": {
      "needs_background": "light"
     },
     "output_type": "display_data"
    }
   ],
   "source": [
    "#Graphing the CHINESE REAL INTEREST RATE\n",
    "data_merge1=data_merge[['DATE','REAL INTEREST RATE']]\n",
    "data_merge1=data_merge1.set_index('DATE')\n",
    "data_merge1['REAL INTEREST RATE']=data_merge1['REAL INTEREST RATE']*100\n",
    "ax = data_merge1['1991':'2020'].plot(title='CHINESE REAL INTEREST RATE', legend=False, figsize=(12,6))\n",
    "ax.set_xlabel('year', fontsize=12)\n",
    "ax.set_ylabel('%', fontsize=12)\n",
    "plt.show()"
   ]
  },
  {
   "cell_type": "code",
   "execution_count": 96,
   "metadata": {},
   "outputs": [],
   "source": [
    "data_merge_2=pd.merge(data_merge, data_3, how='inner', on='DATE', left_on=None, right_on=None,\n",
    "         left_index=False, right_index=False, sort=True,\n",
    "         suffixes=('_x', '_y'), copy=True, indicator=False,\n",
    "         validate=None)"
   ]
  },
  {
   "cell_type": "code",
   "execution_count": 97,
   "metadata": {},
   "outputs": [
    {
     "data": {
      "text/html": [
       "<div>\n",
       "<style scoped>\n",
       "    .dataframe tbody tr th:only-of-type {\n",
       "        vertical-align: middle;\n",
       "    }\n",
       "\n",
       "    .dataframe tbody tr th {\n",
       "        vertical-align: top;\n",
       "    }\n",
       "\n",
       "    .dataframe thead th {\n",
       "        text-align: right;\n",
       "    }\n",
       "</style>\n",
       "<table border=\"1\" class=\"dataframe\">\n",
       "  <thead>\n",
       "    <tr style=\"text-align: right;\">\n",
       "      <th></th>\n",
       "      <th>DATE</th>\n",
       "      <th>INFLATION</th>\n",
       "      <th>INTEREST RATE</th>\n",
       "      <th>REAL INTEREST RATE</th>\n",
       "      <th>GDP</th>\n",
       "    </tr>\n",
       "  </thead>\n",
       "  <tbody>\n",
       "    <tr>\n",
       "      <th>0</th>\n",
       "      <td>1991-01-01</td>\n",
       "      <td>3.556686</td>\n",
       "      <td>7.92</td>\n",
       "      <td>4.363314</td>\n",
       "      <td>3.833733e+11</td>\n",
       "    </tr>\n",
       "    <tr>\n",
       "      <th>1</th>\n",
       "      <td>1992-01-01</td>\n",
       "      <td>6.353981</td>\n",
       "      <td>7.20</td>\n",
       "      <td>0.846019</td>\n",
       "      <td>4.269157e+11</td>\n",
       "    </tr>\n",
       "    <tr>\n",
       "      <th>2</th>\n",
       "      <td>1993-01-01</td>\n",
       "      <td>14.610079</td>\n",
       "      <td>7.20</td>\n",
       "      <td>-7.410079</td>\n",
       "      <td>4.447313e+11</td>\n",
       "    </tr>\n",
       "    <tr>\n",
       "      <th>3</th>\n",
       "      <td>1994-01-01</td>\n",
       "      <td>24.256984</td>\n",
       "      <td>10.08</td>\n",
       "      <td>-14.176984</td>\n",
       "      <td>5.643247e+11</td>\n",
       "    </tr>\n",
       "    <tr>\n",
       "      <th>4</th>\n",
       "      <td>1995-01-01</td>\n",
       "      <td>16.791227</td>\n",
       "      <td>10.26</td>\n",
       "      <td>-6.531227</td>\n",
       "      <td>7.345479e+11</td>\n",
       "    </tr>\n",
       "  </tbody>\n",
       "</table>\n",
       "</div>"
      ],
      "text/plain": [
       "         DATE  INFLATION  INTEREST RATE  REAL INTEREST RATE           GDP\n",
       "0  1991-01-01   3.556686           7.92            4.363314  3.833733e+11\n",
       "1  1992-01-01   6.353981           7.20            0.846019  4.269157e+11\n",
       "2  1993-01-01  14.610079           7.20           -7.410079  4.447313e+11\n",
       "3  1994-01-01  24.256984          10.08          -14.176984  5.643247e+11\n",
       "4  1995-01-01  16.791227          10.26           -6.531227  7.345479e+11"
      ]
     },
     "execution_count": 97,
     "metadata": {},
     "output_type": "execute_result"
    }
   ],
   "source": [
    "data_merge_2.head()"
   ]
  },
  {
   "cell_type": "code",
   "execution_count": 98,
   "metadata": {},
   "outputs": [
    {
     "data": {
      "text/html": [
       "<div>\n",
       "<style scoped>\n",
       "    .dataframe tbody tr th:only-of-type {\n",
       "        vertical-align: middle;\n",
       "    }\n",
       "\n",
       "    .dataframe tbody tr th {\n",
       "        vertical-align: top;\n",
       "    }\n",
       "\n",
       "    .dataframe thead th {\n",
       "        text-align: right;\n",
       "    }\n",
       "</style>\n",
       "<table border=\"1\" class=\"dataframe\">\n",
       "  <thead>\n",
       "    <tr style=\"text-align: right;\">\n",
       "      <th></th>\n",
       "      <th>DATE</th>\n",
       "      <th>INFLATION</th>\n",
       "      <th>INTEREST RATE</th>\n",
       "      <th>REAL INTEREST RATE</th>\n",
       "      <th>GDP</th>\n",
       "    </tr>\n",
       "  </thead>\n",
       "  <tbody>\n",
       "    <tr>\n",
       "      <th>0</th>\n",
       "      <td>1991-01-01</td>\n",
       "      <td>3.556686</td>\n",
       "      <td>7.92</td>\n",
       "      <td>4.363314</td>\n",
       "      <td>3.833733e+11</td>\n",
       "    </tr>\n",
       "    <tr>\n",
       "      <th>1</th>\n",
       "      <td>1992-01-01</td>\n",
       "      <td>6.353981</td>\n",
       "      <td>7.20</td>\n",
       "      <td>0.846019</td>\n",
       "      <td>4.269157e+11</td>\n",
       "    </tr>\n",
       "    <tr>\n",
       "      <th>2</th>\n",
       "      <td>1993-01-01</td>\n",
       "      <td>14.610079</td>\n",
       "      <td>7.20</td>\n",
       "      <td>-7.410079</td>\n",
       "      <td>4.447313e+11</td>\n",
       "    </tr>\n",
       "    <tr>\n",
       "      <th>3</th>\n",
       "      <td>1994-01-01</td>\n",
       "      <td>24.256984</td>\n",
       "      <td>10.08</td>\n",
       "      <td>-14.176984</td>\n",
       "      <td>5.643247e+11</td>\n",
       "    </tr>\n",
       "    <tr>\n",
       "      <th>4</th>\n",
       "      <td>1995-01-01</td>\n",
       "      <td>16.791227</td>\n",
       "      <td>10.26</td>\n",
       "      <td>-6.531227</td>\n",
       "      <td>7.345479e+11</td>\n",
       "    </tr>\n",
       "    <tr>\n",
       "      <th>5</th>\n",
       "      <td>1996-01-01</td>\n",
       "      <td>8.313153</td>\n",
       "      <td>10.44</td>\n",
       "      <td>2.126847</td>\n",
       "      <td>8.637467e+11</td>\n",
       "    </tr>\n",
       "    <tr>\n",
       "      <th>6</th>\n",
       "      <td>1997-01-01</td>\n",
       "      <td>2.786468</td>\n",
       "      <td>9.00</td>\n",
       "      <td>6.213532</td>\n",
       "      <td>9.616040e+11</td>\n",
       "    </tr>\n",
       "    <tr>\n",
       "      <th>7</th>\n",
       "      <td>1998-01-01</td>\n",
       "      <td>-0.773182</td>\n",
       "      <td>8.55</td>\n",
       "      <td>9.323182</td>\n",
       "      <td>1.029043e+12</td>\n",
       "    </tr>\n",
       "    <tr>\n",
       "      <th>8</th>\n",
       "      <td>1999-01-01</td>\n",
       "      <td>-1.401474</td>\n",
       "      <td>4.59</td>\n",
       "      <td>5.991474</td>\n",
       "      <td>1.093997e+12</td>\n",
       "    </tr>\n",
       "    <tr>\n",
       "      <th>9</th>\n",
       "      <td>2000-01-01</td>\n",
       "      <td>0.347806</td>\n",
       "      <td>3.24</td>\n",
       "      <td>2.892194</td>\n",
       "      <td>1.211347e+12</td>\n",
       "    </tr>\n",
       "    <tr>\n",
       "      <th>10</th>\n",
       "      <td>2001-01-01</td>\n",
       "      <td>0.719132</td>\n",
       "      <td>3.24</td>\n",
       "      <td>2.520868</td>\n",
       "      <td>1.339396e+12</td>\n",
       "    </tr>\n",
       "    <tr>\n",
       "      <th>11</th>\n",
       "      <td>2002-01-01</td>\n",
       "      <td>-0.731976</td>\n",
       "      <td>3.24</td>\n",
       "      <td>3.971976</td>\n",
       "      <td>1.470550e+12</td>\n",
       "    </tr>\n",
       "    <tr>\n",
       "      <th>12</th>\n",
       "      <td>2003-01-01</td>\n",
       "      <td>1.127602</td>\n",
       "      <td>2.70</td>\n",
       "      <td>1.572398</td>\n",
       "      <td>1.660288e+12</td>\n",
       "    </tr>\n",
       "    <tr>\n",
       "      <th>13</th>\n",
       "      <td>2004-01-01</td>\n",
       "      <td>3.824638</td>\n",
       "      <td>2.70</td>\n",
       "      <td>-1.124638</td>\n",
       "      <td>1.955347e+12</td>\n",
       "    </tr>\n",
       "    <tr>\n",
       "      <th>14</th>\n",
       "      <td>2005-01-01</td>\n",
       "      <td>1.776416</td>\n",
       "      <td>3.33</td>\n",
       "      <td>1.553584</td>\n",
       "      <td>2.285966e+12</td>\n",
       "    </tr>\n",
       "    <tr>\n",
       "      <th>15</th>\n",
       "      <td>2006-01-01</td>\n",
       "      <td>1.649433</td>\n",
       "      <td>3.33</td>\n",
       "      <td>1.680567</td>\n",
       "      <td>2.752132e+12</td>\n",
       "    </tr>\n",
       "    <tr>\n",
       "      <th>16</th>\n",
       "      <td>2007-01-01</td>\n",
       "      <td>4.816765</td>\n",
       "      <td>3.33</td>\n",
       "      <td>-1.486765</td>\n",
       "      <td>3.550342e+12</td>\n",
       "    </tr>\n",
       "    <tr>\n",
       "      <th>17</th>\n",
       "      <td>2008-01-01</td>\n",
       "      <td>5.925255</td>\n",
       "      <td>4.14</td>\n",
       "      <td>-1.785255</td>\n",
       "      <td>4.594307e+12</td>\n",
       "    </tr>\n",
       "    <tr>\n",
       "      <th>18</th>\n",
       "      <td>2009-01-01</td>\n",
       "      <td>-0.728171</td>\n",
       "      <td>2.79</td>\n",
       "      <td>3.518171</td>\n",
       "      <td>5.101702e+12</td>\n",
       "    </tr>\n",
       "    <tr>\n",
       "      <th>19</th>\n",
       "      <td>2010-01-01</td>\n",
       "      <td>3.175328</td>\n",
       "      <td>2.79</td>\n",
       "      <td>-0.385328</td>\n",
       "      <td>6.087165e+12</td>\n",
       "    </tr>\n",
       "    <tr>\n",
       "      <th>20</th>\n",
       "      <td>2011-01-01</td>\n",
       "      <td>5.553897</td>\n",
       "      <td>3.25</td>\n",
       "      <td>-2.303897</td>\n",
       "      <td>7.551500e+12</td>\n",
       "    </tr>\n",
       "    <tr>\n",
       "      <th>21</th>\n",
       "      <td>2012-01-01</td>\n",
       "      <td>2.619526</td>\n",
       "      <td>3.25</td>\n",
       "      <td>0.630474</td>\n",
       "      <td>8.532231e+12</td>\n",
       "    </tr>\n",
       "    <tr>\n",
       "      <th>22</th>\n",
       "      <td>2013-01-01</td>\n",
       "      <td>2.621049</td>\n",
       "      <td>3.25</td>\n",
       "      <td>0.628951</td>\n",
       "      <td>9.570406e+12</td>\n",
       "    </tr>\n",
       "    <tr>\n",
       "      <th>23</th>\n",
       "      <td>2014-01-01</td>\n",
       "      <td>1.921643</td>\n",
       "      <td>3.25</td>\n",
       "      <td>1.328357</td>\n",
       "      <td>1.047568e+13</td>\n",
       "    </tr>\n",
       "    <tr>\n",
       "      <th>24</th>\n",
       "      <td>2015-01-01</td>\n",
       "      <td>1.437025</td>\n",
       "      <td>3.25</td>\n",
       "      <td>1.812975</td>\n",
       "      <td>1.106155e+13</td>\n",
       "    </tr>\n",
       "    <tr>\n",
       "      <th>25</th>\n",
       "      <td>2016-01-01</td>\n",
       "      <td>2.000000</td>\n",
       "      <td>2.90</td>\n",
       "      <td>0.900000</td>\n",
       "      <td>1.123328e+13</td>\n",
       "    </tr>\n",
       "    <tr>\n",
       "      <th>26</th>\n",
       "      <td>2017-01-01</td>\n",
       "      <td>1.593137</td>\n",
       "      <td>2.90</td>\n",
       "      <td>1.306863</td>\n",
       "      <td>1.231041e+13</td>\n",
       "    </tr>\n",
       "    <tr>\n",
       "      <th>27</th>\n",
       "      <td>2018-01-01</td>\n",
       "      <td>2.074789</td>\n",
       "      <td>2.90</td>\n",
       "      <td>0.825211</td>\n",
       "      <td>1.389482e+13</td>\n",
       "    </tr>\n",
       "    <tr>\n",
       "      <th>28</th>\n",
       "      <td>2019-01-01</td>\n",
       "      <td>2.899236</td>\n",
       "      <td>2.90</td>\n",
       "      <td>0.000764</td>\n",
       "      <td>1.434290e+13</td>\n",
       "    </tr>\n",
       "  </tbody>\n",
       "</table>\n",
       "</div>"
      ],
      "text/plain": [
       "          DATE  INFLATION  INTEREST RATE  REAL INTEREST RATE           GDP\n",
       "0   1991-01-01   3.556686           7.92            4.363314  3.833733e+11\n",
       "1   1992-01-01   6.353981           7.20            0.846019  4.269157e+11\n",
       "2   1993-01-01  14.610079           7.20           -7.410079  4.447313e+11\n",
       "3   1994-01-01  24.256984          10.08          -14.176984  5.643247e+11\n",
       "4   1995-01-01  16.791227          10.26           -6.531227  7.345479e+11\n",
       "5   1996-01-01   8.313153          10.44            2.126847  8.637467e+11\n",
       "6   1997-01-01   2.786468           9.00            6.213532  9.616040e+11\n",
       "7   1998-01-01  -0.773182           8.55            9.323182  1.029043e+12\n",
       "8   1999-01-01  -1.401474           4.59            5.991474  1.093997e+12\n",
       "9   2000-01-01   0.347806           3.24            2.892194  1.211347e+12\n",
       "10  2001-01-01   0.719132           3.24            2.520868  1.339396e+12\n",
       "11  2002-01-01  -0.731976           3.24            3.971976  1.470550e+12\n",
       "12  2003-01-01   1.127602           2.70            1.572398  1.660288e+12\n",
       "13  2004-01-01   3.824638           2.70           -1.124638  1.955347e+12\n",
       "14  2005-01-01   1.776416           3.33            1.553584  2.285966e+12\n",
       "15  2006-01-01   1.649433           3.33            1.680567  2.752132e+12\n",
       "16  2007-01-01   4.816765           3.33           -1.486765  3.550342e+12\n",
       "17  2008-01-01   5.925255           4.14           -1.785255  4.594307e+12\n",
       "18  2009-01-01  -0.728171           2.79            3.518171  5.101702e+12\n",
       "19  2010-01-01   3.175328           2.79           -0.385328  6.087165e+12\n",
       "20  2011-01-01   5.553897           3.25           -2.303897  7.551500e+12\n",
       "21  2012-01-01   2.619526           3.25            0.630474  8.532231e+12\n",
       "22  2013-01-01   2.621049           3.25            0.628951  9.570406e+12\n",
       "23  2014-01-01   1.921643           3.25            1.328357  1.047568e+13\n",
       "24  2015-01-01   1.437025           3.25            1.812975  1.106155e+13\n",
       "25  2016-01-01   2.000000           2.90            0.900000  1.123328e+13\n",
       "26  2017-01-01   1.593137           2.90            1.306863  1.231041e+13\n",
       "27  2018-01-01   2.074789           2.90            0.825211  1.389482e+13\n",
       "28  2019-01-01   2.899236           2.90            0.000764  1.434290e+13"
      ]
     },
     "execution_count": 98,
     "metadata": {},
     "output_type": "execute_result"
    }
   ],
   "source": [
    "data_merge_2.fillna(0)"
   ]
  },
  {
   "cell_type": "code",
   "execution_count": 100,
   "metadata": {},
   "outputs": [
    {
     "data": {
      "text/plain": [
       "[<matplotlib.lines.Line2D at 0x128189610>]"
      ]
     },
     "execution_count": 100,
     "metadata": {},
     "output_type": "execute_result"
    },
    {
     "data": {
      "image/png": "[encoded data removed]",
      "text/plain": [
       "<Figure size 432x288 with 1 Axes>"
      ]
     },
     "metadata": {
      "needs_background": "light"
     },
     "output_type": "display_data"
    }
   ],
   "source": [
    "from numpy.polynomial.polynomial import polyfit\n",
    "fig,ax=plt.subplots()\n",
    "ax.plot(data_merge_2['REAL INTEREST RATE'],data_merge_2['GDP'],'b*')\n",
    "ax.set_xlabel(\"REAL INTEREST RATE\")\n",
    "ax.set_ylabel(\"GDP\")\n",
    "b,m=polyfit(data_merge_2['REAL INTEREST RATE'],data_merge_2['GDP'],1)\n",
    "ax.plot(data_merge_2['REAL INTEREST RATE'],b+m*data_merge_2['REAL INTEREST RATE'],'-')"
   ]
  },
  {
   "cell_type": "code",
   "execution_count": 101,
   "metadata": {},
   "outputs": [
    {
     "data": {
      "text/plain": [
       "(1.6250825857275186e-14,\n",
       " 0.5713559924728433,\n",
       " 1.8240842395026628e-13,\n",
       " 0.9296676909964148)"
      ]
     },
     "execution_count": 101,
     "metadata": {},
     "output_type": "execute_result"
    }
   ],
   "source": [
    "#Test for the relationship between INTEREST RATE and GDP\n",
    "from scipy.stats import linregress\n",
    "gradient, intercept, r_value, p_value, std_err = linregress(data_merge_2['GDP'], data_merge_2['REAL INTEREST RATE'])\n",
    "gradient, intercept, std_err, p_value"
   ]
  },
  {
   "cell_type": "code",
   "execution_count": 102,
   "metadata": {},
   "outputs": [
    {
     "data": {
      "text/plain": [
       "statsmodels.regression.linear_model.OLS"
      ]
     },
     "execution_count": 102,
     "metadata": {},
     "output_type": "execute_result"
    }
   ],
   "source": [
    "#Regression of unemployment rate on INTEREST RATE and GDP.\n",
    "data_merge_2['const'] = 1\n",
    "reg1 = sm.OLS(endog=data_merge_2['REAL INTEREST RATE'], exog=data_merge_2[['const', 'REAL INTEREST RATE','GDP']], \\\n",
    "    missing='drop')\n",
    "type(reg1)"
   ]
  },
  {
   "cell_type": "code",
   "execution_count": 103,
   "metadata": {},
   "outputs": [
    {
     "data": {
      "text/plain": [
       "statsmodels.regression.linear_model.RegressionResultsWrapper"
      ]
     },
     "execution_count": 103,
     "metadata": {},
     "output_type": "execute_result"
    }
   ],
   "source": [
    "results = reg1.fit()\n",
    "type(results)"
   ]
  },
  {
   "cell_type": "code",
   "execution_count": 104,
   "metadata": {},
   "outputs": [
    {
     "name": "stdout",
     "output_type": "stream",
     "text": [
      "                            OLS Regression Results                            \n",
      "==============================================================================\n",
      "Dep. Variable:     REAL INTEREST RATE   R-squared:                       1.000\n",
      "Model:                            OLS   Adj. R-squared:                  1.000\n",
      "Method:                 Least Squares   F-statistic:                 1.980e+08\n",
      "Date:                Tue, 08 Dec 2020   Prob (F-statistic):           4.22e-94\n",
      "Time:                        00:29:01   Log-Likelihood:                 156.16\n",
      "No. Observations:                  29   AIC:                            -306.3\n",
      "Df Residuals:                      26   BIC:                            -302.2\n",
      "Df Model:                           2                                         \n",
      "Covariance Type:            nonrobust                                         \n",
      "======================================================================================\n",
      "                         coef    std err          t      P>|t|      [0.025      0.975]\n",
      "--------------------------------------------------------------------------------------\n",
      "const                 -0.0011      0.000     -3.605      0.001      -0.002      -0.000\n",
      "REAL INTEREST RATE     1.0000   5.03e-05   1.99e+04      0.000       1.000       1.000\n",
      "GDP                 5.678e-18   4.76e-17      0.119      0.906   -9.23e-17    1.04e-16\n",
      "==============================================================================\n",
      "Omnibus:                        4.067   Durbin-Watson:                   0.000\n",
      "Prob(Omnibus):                  0.131   Jarque-Bera (JB):                2.986\n",
      "Skew:                          -0.640   Prob(JB):                        0.225\n",
      "Kurtosis:                       2.088   Cond. No.                     9.53e+12\n",
      "==============================================================================\n",
      "\n",
      "Notes:\n",
      "[1] Standard Errors assume that the covariance matrix of the errors is correctly specified.\n",
      "[2] The condition number is large, 9.53e+12. This might indicate that there are\n",
      "strong multicollinearity or other numerical problems.\n"
     ]
    }
   ],
   "source": [
    "print(results.summary())"
   ]
  },
  {
   "cell_type": "code",
   "execution_count": null,
   "metadata": {},
   "outputs": [],
   "source": []
  }
 ],
 "metadata": {
  "kernelspec": {
   "display_name": "Python 3",
   "language": "python",
   "name": "python3"
  },
  "language_info": {
   "codemirror_mode": {
    "name": "ipython",
    "version": 3
   },
   "file_extension": ".py",
   "mimetype": "text/x-python",
   "name": "python",
   "nbconvert_exporter": "python",
   "pygments_lexer": "ipython3",
   "version": "3.8.5"
  }
 },
 "nbformat": 4,
 "nbformat_minor": 4
}
